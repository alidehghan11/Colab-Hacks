{
  "nbformat": 4,
  "nbformat_minor": 0,
  "metadata": {
    "colab": {
      "name": "Colab RDP.ipynb",
      "provenance": [],
      "collapsed_sections": [],
      "toc_visible": true,
      "include_colab_link": true
    },
    "kernelspec": {
      "name": "python3",
      "display_name": "Python 3"
    }
  },
  "cells": [
    {
      "cell_type": "markdown",
      "metadata": {
        "id": "view-in-github",
        "colab_type": "text"
      },
      "source": [
        "<a href=\"https://colab.research.google.com/github/bbachraou/Colab-Hacks/blob/main/Colab%20RDP/Colab%20RDP.ipynb\" target=\"_parent\"><img src=\"https://colab.research.google.com/assets/colab-badge.svg\" alt=\"Open In Colab\"/></a>"
      ]
    },
    {
      "cell_type": "markdown",
      "metadata": {
        "id": "iLh_9SkSut4u"
      },
      "source": [
        "# **Colab RDP** : Remote Desktop to Colab Instance\n",
        "\n",
        "Used Google Remote Desktop & Ngrok Tunnel\n",
        "\n",
        "> **Warning :** This notebook is against the Policy of Colab. Use it on your own risk\n",
        "\n",
        "Google Colab can give you Instance with 12GB of RAM and GPU for 12 hours (Max.). Anyone can use it to perform Heavy Tasks\n",
        "\n",
        "To use other similiar Notebooks use my Repository **[Colab Hacks](https://github.com/bbachraou/Colab-Hacks)**"
      ]
    },
    {
      "cell_type": "markdown",
      "metadata": {
        "id": "1i_L5TBMh8xv"
      },
      "source": [
        "## **One Click RDP**\n",
        "- User Password is `root`\n",
        "- It takes 4-5 mintues for installation"
      ]
    },
    {
      "cell_type": "code",
      "metadata": {
        "id": "Q6bl1b0EifVG"
      },
      "source": [
        "! wget https://github.com/bbachraou/Colab-Hacks/raw/master/Colab%20RDP/OC_RDP.sh &> /dev/null\n",
        "! chmod +x OC_RDP.sh\n",
        "! ./OC_RDP.sh"
      ],
      "execution_count": null,
      "outputs": []
    },
    {
      "cell_type": "markdown",
      "metadata": {
        "id": "HF9EFCLfjOt6"
      },
      "source": [
        "### Sleep Colab"
      ]
    },
    {
      "cell_type": "code",
      "metadata": {
        "id": "9mTS5uG5jQ56"
      },
      "source": [
        "! sleep 43200"
      ],
      "execution_count": null,
      "outputs": []
    },
    {
      "cell_type": "markdown",
      "metadata": {
        "id": "ylJsUPh-ihQ0"
      },
      "source": [
        "## **Standard Method**"
      ]
    },
    {
      "cell_type": "markdown",
      "metadata": {
        "id": "cpktYY4Cwqxf"
      },
      "source": [
        "### Before We Started\n",
        "- Create a Ngrok Account to configure tunnel\n",
        "- Don't use username : `root`"
      ]
    },
    {
      "cell_type": "markdown",
      "metadata": {
        "id": "RLkhifGWu_1X"
      },
      "source": [
        "### Installing Colab SSH Library"
      ]
    },
    {
      "cell_type": "code",
      "metadata": {
        "id": "Ks-xI7nV2aW5"
      },
      "source": [
        "! pip install colab_ssh --upgrade\n",
        "from colab_ssh import launch_ssh, init_git"
      ],
      "execution_count": null,
      "outputs": []
    },
    {
      "cell_type": "markdown",
      "metadata": {
        "id": "3LAjx5HyvUe0"
      },
      "source": [
        "### Configure User"
      ]
    },
    {
      "cell_type": "markdown",
      "metadata": {
        "id": "iY0xW8IrvklB"
      },
      "source": [
        "Setting Username & Password"
      ]
    },
    {
      "cell_type": "code",
      "metadata": {
        "id": "fMXfodDURPZB"
      },
      "source": [
        "username = input(\"Enter username : \")\n",
        "password = input(\"Enter password : \")"
      ],
      "execution_count": null,
      "outputs": []
    },
    {
      "cell_type": "markdown",
      "metadata": {
        "id": "EcUIE8VDvcCD"
      },
      "source": [
        "Create User & Set Password"
      ]
    },
    {
      "cell_type": "code",
      "metadata": {
        "id": "uep_NskcRq4c"
      },
      "source": [
        "! sudo useradd -m $username\n",
        "! sudo adduser $username sudo\n",
        "! echo '$username:$password' | sudo chpasswd\n",
        "! sed -i 's/\\/bin\\/sh/\\/bin\\/bash/g' /etc/passwd"
      ],
      "execution_count": null,
      "outputs": []
    },
    {
      "cell_type": "markdown",
      "metadata": {
        "id": "mnK94LuVvt3a"
      },
      "source": [
        "### Mount Google Drive"
      ]
    },
    {
      "cell_type": "code",
      "metadata": {
        "id": "GpmseAlaYuwY"
      },
      "source": [
        "from google.colab import drive\n",
        "home='/home/'+username+'/drive'\n",
        "drive.mount(home)"
      ],
      "execution_count": null,
      "outputs": []
    },
    {
      "cell_type": "markdown",
      "metadata": {
        "id": "70AUcQIPxB0e"
      },
      "source": [
        "### Setting Chrome Remote Desktop"
      ]
    },
    {
      "cell_type": "markdown",
      "metadata": {
        "id": "3bo6Aq7xxkjT"
      },
      "source": [
        "Download Remote Desktop Installation Script"
      ]
    },
    {
      "cell_type": "code",
      "metadata": {
        "id": "p_9JGChxxKDs"
      },
      "source": [
        "! wget https://github.com/bbachraou/Colab-Hacks/raw/master/Colab%20RDP/install.sh -P /home/$username"
      ],
      "execution_count": null,
      "outputs": []
    },
    {
      "cell_type": "markdown",
      "metadata": {
        "id": "zsJ8sPTfx3oE"
      },
      "source": [
        "Use the script \n",
        "\n",
        "- It install the required files and configure your instance\n",
        "- It takes 4-5 mintues to complete the process"
      ]
    },
    {
      "cell_type": "code",
      "metadata": {
        "id": "1EsGY1VQ4mry"
      },
      "source": [
        "! sudo chmod +x /home/$username/install.sh\n",
        "! sudo /home/$username/install.sh"
      ],
      "execution_count": null,
      "outputs": []
    },
    {
      "cell_type": "markdown",
      "metadata": {
        "id": "zNOpEkSRvzDN"
      },
      "source": [
        "### Run Ngrok Tunnel"
      ]
    },
    {
      "cell_type": "code",
      "metadata": {
        "id": "tNtwEGhvSJMB"
      },
      "source": [
        "print(\"Copy authtoken from https://dashboard.ngrok.com/auth\")\n",
        "ngrokToken = input(\"Enter Token : \")\n",
        "\n",
        "launch_ssh(ngrokToken, password)"
      ],
      "execution_count": null,
      "outputs": []
    },
    {
      "cell_type": "markdown",
      "metadata": {
        "id": "IoG0YmUPxnsT"
      },
      "source": [
        "Connect to instance via SSH \n",
        "- Use the command below in your terminal\n",
        "- When ask for password give your password which is set previously"
      ]
    },
    {
      "cell_type": "code",
      "metadata": {
        "id": "KjSebmRoSlOl"
      },
      "source": [
        "print(\"ssh\", username, end='@')\n",
        "!curl -s http://localhost:4040/api/tunnels | python3 -c \\\n",
        "    \"import sys, json; print(json.load(sys.stdin)['tunnels'][0]['public_url'][6:].replace(':', ' -p '))\""
      ],
      "execution_count": null,
      "outputs": []
    },
    {
      "cell_type": "markdown",
      "metadata": {
        "id": "b2BgUYJj8mHU"
      },
      "source": [
        "If unable to Connect through SSH then Kill and Start NGROK Tunnel again"
      ]
    },
    {
      "cell_type": "markdown",
      "metadata": {
        "id": "VyDzoqrcyeo1"
      },
      "source": [
        "### Authenticate Through [Remote Desktop Headless](http://remotedesktop.google.com/headless)\n",
        "- Open browser and go to http://remotedesktop.google.com/headless\n",
        "- Dont Download any file simply proceed directly to authenticate button\n",
        "- when you got a command copy and paste it to SSH terminal and complete the process by setting up a pin"
      ]
    },
    {
      "cell_type": "markdown",
      "metadata": {
        "id": "zbtNhA25zOXm"
      },
      "source": [
        "Now your process completes \n",
        "\n",
        "Visit [Remote Desktop](http://remotedesktop.google.com/access) at http://remotedesktop.google.com/headless to access your instance"
      ]
    },
    {
      "cell_type": "markdown",
      "metadata": {
        "id": "DNwQ66F5v4iu"
      },
      "source": [
        "### Kill Ngrok Tunnel"
      ]
    },
    {
      "cell_type": "code",
      "metadata": {
        "id": "9gMg9YWns-f0"
      },
      "source": [
        "! killall ngrok"
      ],
      "execution_count": null,
      "outputs": []
    },
    {
      "cell_type": "markdown",
      "metadata": {
        "id": "Sbus2Qb62MnM"
      },
      "source": [
        "### Sleep Colab\n",
        "Sleep Colab for 12 hours"
      ]
    },
    {
      "cell_type": "code",
      "metadata": {
        "id": "3UGxFLrh25LU"
      },
      "source": [
        "! sleep 43200"
      ],
      "execution_count": null,
      "outputs": []
    }
  ]
}
